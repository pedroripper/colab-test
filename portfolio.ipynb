{
 "cells": [
  {
   "attachments": {},
   "cell_type": "markdown",
   "metadata": {},
   "source": [
    "# Installation"
   ]
  },
  {
   "cell_type": "code",
   "execution_count": 1,
   "metadata": {},
   "outputs": [
    {
     "name": "stderr",
     "output_type": "stream",
     "text": [
      "\u001b[32m\u001b[1m  Activating\u001b[22m\u001b[39m new project at `c:\\Users\\pedroripper\\Documents\\Github`\n"
     ]
    }
   ],
   "source": [
    "import Pkg; Pkg.activate(dirname(@__DIR__))"
   ]
  },
  {
   "attachments": {},
   "cell_type": "markdown",
   "metadata": {},
   "source": [
    "# Stock Prices"
   ]
  },
  {
   "cell_type": "code",
   "execution_count": 2,
   "metadata": {},
   "outputs": [],
   "source": [
    "using DataFrames\n",
    "using Statistics"
   ]
  },
  {
   "cell_type": "code",
   "execution_count": 3,
   "metadata": {},
   "outputs": [
    {
     "data": {
      "text/html": [
       "<div><div style = \"float: left;\"><span>13×3 DataFrame</span></div><div style = \"clear: both;\"></div></div><div class = \"data-frame\" style = \"overflow-x: scroll;\"><table class = \"data-frame\" style = \"margin-bottom: 6px;\"><thead><tr class = \"header\"><th class = \"rowNumber\" style = \"font-weight: bold; text-align: right;\">Row</th><th style = \"text-align: left;\">IBM</th><th style = \"text-align: left;\">WMT</th><th style = \"text-align: left;\">SEHI</th></tr><tr class = \"subheader headerLastRow\"><th class = \"rowNumber\" style = \"font-weight: bold; text-align: right;\"></th><th title = \"Float64\" style = \"text-align: left;\">Float64</th><th title = \"Float64\" style = \"text-align: left;\">Float64</th><th title = \"Float64\" style = \"text-align: left;\">Float64</th></tr></thead><tbody><tr><td class = \"rowNumber\" style = \"font-weight: bold; text-align: right;\">1</td><td style = \"text-align: right;\">93.043</td><td style = \"text-align: right;\">51.826</td><td style = \"text-align: right;\">1.063</td></tr><tr><td class = \"rowNumber\" style = \"font-weight: bold; text-align: right;\">2</td><td style = \"text-align: right;\">84.585</td><td style = \"text-align: right;\">52.823</td><td style = \"text-align: right;\">0.938</td></tr><tr><td class = \"rowNumber\" style = \"font-weight: bold; text-align: right;\">3</td><td style = \"text-align: right;\">111.453</td><td style = \"text-align: right;\">56.477</td><td style = \"text-align: right;\">1.0</td></tr><tr><td class = \"rowNumber\" style = \"font-weight: bold; text-align: right;\">4</td><td style = \"text-align: right;\">99.525</td><td style = \"text-align: right;\">49.805</td><td style = \"text-align: right;\">0.938</td></tr><tr><td class = \"rowNumber\" style = \"font-weight: bold; text-align: right;\">5</td><td style = \"text-align: right;\">95.819</td><td style = \"text-align: right;\">50.287</td><td style = \"text-align: right;\">1.438</td></tr><tr><td class = \"rowNumber\" style = \"font-weight: bold; text-align: right;\">6</td><td style = \"text-align: right;\">114.708</td><td style = \"text-align: right;\">51.521</td><td style = \"text-align: right;\">1.7</td></tr><tr><td class = \"rowNumber\" style = \"font-weight: bold; text-align: right;\">7</td><td style = \"text-align: right;\">111.515</td><td style = \"text-align: right;\">51.531</td><td style = \"text-align: right;\">2.54</td></tr><tr><td class = \"rowNumber\" style = \"font-weight: bold; text-align: right;\">8</td><td style = \"text-align: right;\">113.211</td><td style = \"text-align: right;\">48.664</td><td style = \"text-align: right;\">2.39</td></tr><tr><td class = \"rowNumber\" style = \"font-weight: bold; text-align: right;\">9</td><td style = \"text-align: right;\">104.942</td><td style = \"text-align: right;\">55.744</td><td style = \"text-align: right;\">3.12</td></tr><tr><td class = \"rowNumber\" style = \"font-weight: bold; text-align: right;\">10</td><td style = \"text-align: right;\">99.827</td><td style = \"text-align: right;\">47.916</td><td style = \"text-align: right;\">2.98</td></tr><tr><td class = \"rowNumber\" style = \"font-weight: bold; text-align: right;\">11</td><td style = \"text-align: right;\">91.607</td><td style = \"text-align: right;\">49.438</td><td style = \"text-align: right;\">1.9</td></tr><tr><td class = \"rowNumber\" style = \"font-weight: bold; text-align: right;\">12</td><td style = \"text-align: right;\">107.937</td><td style = \"text-align: right;\">51.336</td><td style = \"text-align: right;\">1.75</td></tr><tr><td class = \"rowNumber\" style = \"font-weight: bold; text-align: right;\">13</td><td style = \"text-align: right;\">115.59</td><td style = \"text-align: right;\">55.081</td><td style = \"text-align: right;\">1.8</td></tr></tbody></table></div>"
      ],
      "text/latex": [
       "\\begin{tabular}{r|ccc}\n",
       "\t& IBM & WMT & SEHI\\\\\n",
       "\t\\hline\n",
       "\t& Float64 & Float64 & Float64\\\\\n",
       "\t\\hline\n",
       "\t1 & 93.043 & 51.826 & 1.063 \\\\\n",
       "\t2 & 84.585 & 52.823 & 0.938 \\\\\n",
       "\t3 & 111.453 & 56.477 & 1.0 \\\\\n",
       "\t4 & 99.525 & 49.805 & 0.938 \\\\\n",
       "\t5 & 95.819 & 50.287 & 1.438 \\\\\n",
       "\t6 & 114.708 & 51.521 & 1.7 \\\\\n",
       "\t7 & 111.515 & 51.531 & 2.54 \\\\\n",
       "\t8 & 113.211 & 48.664 & 2.39 \\\\\n",
       "\t9 & 104.942 & 55.744 & 3.12 \\\\\n",
       "\t10 & 99.827 & 47.916 & 2.98 \\\\\n",
       "\t11 & 91.607 & 49.438 & 1.9 \\\\\n",
       "\t12 & 107.937 & 51.336 & 1.75 \\\\\n",
       "\t13 & 115.59 & 55.081 & 1.8 \\\\\n",
       "\\end{tabular}\n"
      ],
      "text/plain": [
       "\u001b[1m13×3 DataFrame\u001b[0m\n",
       "\u001b[1m Row \u001b[0m│\u001b[1m IBM     \u001b[0m\u001b[1m WMT     \u001b[0m\u001b[1m SEHI    \u001b[0m\n",
       "     │\u001b[90m Float64 \u001b[0m\u001b[90m Float64 \u001b[0m\u001b[90m Float64 \u001b[0m\n",
       "─────┼───────────────────────────\n",
       "   1 │  93.043   51.826    1.063\n",
       "   2 │  84.585   52.823    0.938\n",
       "   3 │ 111.453   56.477    1.0\n",
       "   4 │  99.525   49.805    0.938\n",
       "   5 │  95.819   50.287    1.438\n",
       "   6 │ 114.708   51.521    1.7\n",
       "   7 │ 111.515   51.531    2.54\n",
       "   8 │ 113.211   48.664    2.39\n",
       "   9 │ 104.942   55.744    3.12\n",
       "  10 │  99.827   47.916    2.98\n",
       "  11 │  91.607   49.438    1.9\n",
       "  12 │ 107.937   51.336    1.75\n",
       "  13 │ 115.59    55.081    1.8"
      ]
     },
     "metadata": {},
     "output_type": "display_data"
    }
   ],
   "source": [
    "assets = [:IBM, :WMT, :SEHI]\n",
    "\n",
    "df = DataFrames.DataFrame(\n",
    "    [\n",
    "         93.043    51.826    1.063\n",
    "         84.585    52.823    0.938\n",
    "        111.453    56.477    1.000\n",
    "         99.525    49.805    0.938\n",
    "         95.819    50.287    1.438\n",
    "        114.708    51.521    1.700\n",
    "        111.515    51.531    2.540\n",
    "        113.211    48.664    2.390\n",
    "        104.942    55.744    3.120\n",
    "         99.827    47.916    2.980\n",
    "         91.607    49.438    1.900\n",
    "        107.937    51.336    1.750\n",
    "        115.590    55.081    1.800\n",
    "    ],\n",
    "    assets,\n",
    ")"
   ]
  },
  {
   "attachments": {},
   "cell_type": "markdown",
   "metadata": {},
   "source": [
    "# Solving"
   ]
  },
  {
   "cell_type": "code",
   "execution_count": 4,
   "metadata": {},
   "outputs": [],
   "source": [
    "using JuMP\n",
    "using QUBO\n",
    "using PySA"
   ]
  },
  {
   "cell_type": "code",
   "execution_count": 5,
   "metadata": {},
   "outputs": [
    {
     "data": {
      "text/plain": [
       "solve (generic function with 4 methods)"
      ]
     },
     "metadata": {},
     "output_type": "display_data"
    }
   ],
   "source": [
    "function solve(\n",
    "    config!::Function,\n",
    "    df::DataFrame,\n",
    "    λ::Float64 = 10.;\n",
    "    optimizer = PySA.Optimizer\n",
    ")\n",
    "    # Number of assets\n",
    "    n = size(df, 2)\n",
    "\n",
    "    # Relative monthly return\n",
    "    r = diff(Matrix(df); dims = 1) ./ Matrix(df[1:end-1, :])\n",
    "\n",
    "    # Expected monthly return value for each stock\n",
    "    μ = vec(Statistics.mean(r; dims = 1))\n",
    "\n",
    "    # Covariance matrix\n",
    "    Σ = Statistics.cov(r)\n",
    "\n",
    "    # Build model\n",
    "    model = Model(() -> ToQUBO.Optimizer(optimizer))\n",
    "\n",
    "    @variable(model, 0 <= x[1:n] <= 1)\n",
    "    @objective(model, Max, μ'x - λ * x' * Σ * x)\n",
    "    @constraint(model, sum(x) == 1)\n",
    "\n",
    "    config!(model)\n",
    "\n",
    "    optimize!(model)\n",
    "\n",
    "    return value.(x)\n",
    "end\n",
    "\n",
    "function solve(df::DataFrame, λ::Float64 = 10.; optimizer = PySA.Optimizer)\n",
    "    return solve(identity, df, λ; optimizer)\n",
    "end"
   ]
  },
  {
   "cell_type": "code",
   "execution_count": 6,
   "metadata": {},
   "outputs": [
    {
     "name": "stderr",
     "output_type": "stream",
     "text": [
      "/mnt/d/gits/QUBO-notebooks/.CondaPkg/env/lib/python3.10/site-packages/pysa/simulation.py:155: NumbaPerformanceWarning: np.dot() is faster on contiguous arrays, called on (Array(float64, 1, 'A', False, aligned=True), Array(float64, 1, 'C', False, aligned=True))\n",
      "  energies[k] += sweep(update_spin, couplings, local_fields,\n"
     ]
    },
    {
     "data": {
      "text/plain": [
       "3-element Vector{Float64}:\n",
       " 0.9032258064516129\n",
       " 0.06451612903225806\n",
       " 0.03225806451612903"
      ]
     },
     "metadata": {},
     "output_type": "display_data"
    }
   ],
   "source": [
    "solve(df, 50.0) do model\n",
    "    JuMP.set_silent(model)\n",
    "    JuMP.set_attribute(model, \"n_replicas\", 5)\n",
    "end"
   ]
  }
 ],
 "metadata": {
  "kernelspec": {
   "display_name": "Julia 1.8.5",
   "language": "julia",
   "name": "julia-1.8"
  },
  "language_info": {
   "file_extension": ".jl",
   "mimetype": "application/julia",
   "name": "julia",
   "version": "1.8.5"
  },
  "orig_nbformat": 4
 },
 "nbformat": 4,
 "nbformat_minor": 2
}
